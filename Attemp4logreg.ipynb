{
 "cells": [
  {
   "cell_type": "code",
   "execution_count": 1,
   "metadata": {
    "collapsed": true
   },
   "outputs": [],
   "source": [
    "import numpy as np\n",
    "import load_dataset\n",
    "import timeit"
   ]
  },
  {
   "cell_type": "code",
   "execution_count": 2,
   "metadata": {
    "collapsed": true
   },
   "outputs": [],
   "source": [
    "y_train , x_train= load_dataset.read(\"training\",\"MNIST\")\n",
    "y_test, x_test= load_dataset.read(\"testing\",\"MNIST\")\n",
    "x_train = x_train.reshape([60000,28*28])\n",
    "x_test = x_test.reshape([10000,28*28])\n",
    "number_of_classes = 10"
   ]
  },
  {
   "cell_type": "code",
   "execution_count": 3,
   "metadata": {
    "collapsed": true
   },
   "outputs": [],
   "source": [
    "w = np.zeros((number_of_classes-1,x_train.shape[1]))"
   ]
  },
  {
   "cell_type": "code",
   "execution_count": 5,
   "metadata": {
    "collapsed": true
   },
   "outputs": [],
   "source": [
    "def p (l , w , x):\n",
    "    sum = 0.0\n",
    "    for j in range(number_of_classes-1):\n",
    "        sum += float(np.exp(np.dot(w[j],x)))\n",
    "    #print sum\n",
    "    if l == number_of_classes-1:\n",
    "        return 1.0/(1.0 + sum)\n",
    "    else:\n",
    "        return float(np.exp(np.dot(w[l],x)))/(1.0 + sum)"
   ]
  },
  {
   "cell_type": "code",
   "execution_count": 6,
   "metadata": {
    "collapsed": true
   },
   "outputs": [],
   "source": [
    "def probablity (label , x):\n",
    "    ans =[]\n",
    "    for i in range(x.shape[0]):\n",
    "        sum = 0.0\n",
    "        for j in range(number_of_classes-1):\n",
    "            sum += np.exp(np.dot(w[j],x[i]))\n",
    "        \n",
    "        if label == number_of_classes-1:\n",
    "            ans.append(1.0/(1.0 + sum))\n",
    "        else:\n",
    "            ans.append( float(np.exp(np.dot(w[label],x[i])))/(1.0 + sum))\n",
    "    \n",
    "    return np.array(ans)"
   ]
  },
  {
   "cell_type": "code",
   "execution_count": null,
   "metadata": {
    "collapsed": true
   },
   "outputs": [],
   "source": []
  },
  {
   "cell_type": "code",
   "execution_count": 6,
   "metadata": {
    "collapsed": true
   },
   "outputs": [],
   "source": [
    "iterationAccuracy =[]"
   ]
  },
  {
   "cell_type": "code",
   "execution_count": 7,
   "metadata": {
    "collapsed": true
   },
   "outputs": [],
   "source": [
    "learning_rate = 0.0001"
   ]
  },
  {
   "cell_type": "code",
   "execution_count": 8,
   "metadata": {
    "collapsed": true
   },
   "outputs": [],
   "source": [
    "x_scaled = x_train/255\n",
    "x_test_scaled = x_test/255"
   ]
  },
  {
   "cell_type": "code",
   "execution_count": 7,
   "metadata": {
    "collapsed": true
   },
   "outputs": [],
   "source": [
    "wrongPredections = []\n",
    "wrongLabels = []\n",
    "wrongPredectionProbablity = []\n",
    "correctLabelProbablity = []"
   ]
  },
  {
   "cell_type": "code",
   "execution_count": 9,
   "metadata": {
    "collapsed": true
   },
   "outputs": [],
   "source": [
    "#probs = probablity(2,x_scaled)"
   ]
  },
  {
   "cell_type": "code",
   "execution_count": 10,
   "metadata": {
    "collapsed": true
   },
   "outputs": [],
   "source": [
    "#def select (x)"
   ]
  },
  {
   "cell_type": "code",
   "execution_count": null,
   "metadata": {
    "collapsed": true
   },
   "outputs": [],
   "source": [
    "def evaluation(iteration):\n",
    "    ct =0\n",
    "    cf =0 \n",
    "    predict = np.zeros(y_test.shape)\n",
    "    for i in range(x_test_scaled.shape[0]):\n",
    "        temp = -1\n",
    "        for l in range(number_of_classes):\n",
    "            tt = p(l,w,x_test_scaled[i])\n",
    "            if temp < tt:\n",
    "                temp = tt\n",
    "                predict[i] = l\n",
    "        if predict[i] == y_test[i]:\n",
    "            ct+=1\n",
    "        else:\n",
    "            cf += 1\n",
    "            if iteration == 99:\n",
    "                wrongPredections.append(predict[i])\n",
    "                wrongLabels.append(y_test[i])\n",
    "                wrongPredectionProbablity.append()\n",
    "            \n",
    "            #print str(predict[i])+\"  \"+str(y_test[i])\n",
    "    efficiency = float(ct)/float((ct+cf))\n",
    "    print (\"for \"+str(iteration)+\" iteration accuracy is \"+str(efficiency))\n",
    "    iterationAccuracy.append((iteration,efficiency))\n",
    "    return efficiency"
   ]
  },
  {
   "cell_type": "code",
   "execution_count": null,
   "metadata": {},
   "outputs": [
    {
     "name": "stdout",
     "output_type": "stream",
     "text": [
      "for 0 iteration accuracy is 0.3365\n",
      "for 1 iteration accuracy is 0.3432\n",
      "for 2 iteration accuracy is 0.3448\n",
      "for 3 iteration accuracy is 0.3493\n"
     ]
    }
   ],
   "source": [
    "for iteration in range(100):\n",
    "    \n",
    "    #tic = timeit.default_timer()\n",
    "    for label in range(number_of_classes-1):\n",
    "        theta = np.where(y_train == label,1,0)\n",
    "        errors = theta - probablity(label,x_scaled)\n",
    "        \n",
    "        for i in range(x_scaled.shape[1]):\n",
    "            sum = x_scaled[:,i] * errors\n",
    "            w[label][i] += learning_rate * sum.sum()\n",
    "    evaluation(iteration)  \n",
    "    \n",
    "    \n",
    "    #if iteration==90 or iteration==94 or iteration==96 or iteration==98  :\n",
    "    #   print(\"learning rate change\")\n",
    "    #   learning_rate*=0.5\n",
    "      \n",
    "    #toc = timeit.default_timer()\n",
    "    \n",
    "    #print (w)"
   ]
  },
  {
   "cell_type": "code",
   "execution_count": null,
   "metadata": {
    "collapsed": true
   },
   "outputs": [],
   "source": [
    "import matplotlib.pyplot as plt"
   ]
  },
  {
   "cell_type": "code",
   "execution_count": null,
   "metadata": {
    "collapsed": true
   },
   "outputs": [],
   "source": [
    "plt.ylabel(\"accuracy\")\n",
    "plt.xlabel(\"number of iterations\")\n",
    "x = []\n",
    "y = []\n",
    "for i in range(len(iterationAccuracy)):\n",
    "    x.append(iterationAccuracy[i][0]+1)\n",
    "    y.append(iterationAccuracy[i][1])\n",
    "    \n",
    "plt.title(\"logestic regression Learning Curve\")\n",
    "plt.plot(x,y)\n",
    "plt.show()"
   ]
  },
  {
   "cell_type": "code",
   "execution_count": null,
   "metadata": {
    "collapsed": true
   },
   "outputs": [],
   "source": []
  },
  {
   "cell_type": "code",
   "execution_count": null,
   "metadata": {
    "collapsed": true
   },
   "outputs": [],
   "source": []
  },
  {
   "cell_type": "code",
   "execution_count": null,
   "metadata": {
    "collapsed": true
   },
   "outputs": [],
   "source": []
  }
 ],
 "metadata": {
  "kernelspec": {
   "display_name": "Python 2",
   "language": "python",
   "name": "python2"
  },
  "language_info": {
   "codemirror_mode": {
    "name": "ipython",
    "version": 2
   },
   "file_extension": ".py",
   "mimetype": "text/x-python",
   "name": "python",
   "nbconvert_exporter": "python",
   "pygments_lexer": "ipython2",
   "version": "2.7.13"
  }
 },
 "nbformat": 4,
 "nbformat_minor": 2
}
